{
 "cells": [
  {
   "cell_type": "code",
   "execution_count": 1,
   "id": "412a427d-6999-44b0-b70d-2d525c8052b9",
   "metadata": {},
   "outputs": [],
   "source": [
    "import warnings\n",
    "warnings.simplefilter('ignore')"
   ]
  },
  {
   "cell_type": "markdown",
   "id": "ea4b39b8-514e-42ac-b166-a06fe93b30f9",
   "metadata": {},
   "source": [
    "## 0. Install and import dependencies"
   ]
  },
  {
   "cell_type": "code",
   "execution_count": 2,
   "id": "6ab46345-aa4b-47b1-b1f6-72554926e84e",
   "metadata": {
    "tags": []
   },
   "outputs": [],
   "source": [
    "# if already installed do not run ! :\n",
    "#!pip install pystan prophet plotly Cython"
   ]
  },
  {
   "cell_type": "code",
   "execution_count": 3,
   "id": "05b611c0-c72f-489b-b5fd-2ca0c440569e",
   "metadata": {},
   "outputs": [],
   "source": [
    "import pandas as pd\n",
    "from prophet import Prophet \n",
    "%matplotlib inline"
   ]
  },
  {
   "cell_type": "markdown",
   "id": "91ea6eb0-4889-418e-92d1-d5c9b3c35a67",
   "metadata": {},
   "source": [
    "## 1. Read in Data and process dates"
   ]
  },
  {
   "cell_type": "code",
   "execution_count": 4,
   "id": "bbf92665-9393-496a-a737-01eb840fbe90",
   "metadata": {},
   "outputs": [],
   "source": [
    "df = pd.read_csv('dataset.csv')"
   ]
  },
  {
   "cell_type": "code",
   "execution_count": 5,
   "id": "5ea3de6b-aef8-41da-8dd9-2c58507b5f3f",
   "metadata": {},
   "outputs": [
    {
     "data": {
      "text/html": [
       "<div>\n",
       "<style scoped>\n",
       "    .dataframe tbody tr th:only-of-type {\n",
       "        vertical-align: middle;\n",
       "    }\n",
       "\n",
       "    .dataframe tbody tr th {\n",
       "        vertical-align: top;\n",
       "    }\n",
       "\n",
       "    .dataframe thead th {\n",
       "        text-align: right;\n",
       "    }\n",
       "</style>\n",
       "<table border=\"1\" class=\"dataframe\">\n",
       "  <thead>\n",
       "    <tr style=\"text-align: right;\">\n",
       "      <th></th>\n",
       "      <th>Time Date</th>\n",
       "      <th>Product</th>\n",
       "      <th>Store</th>\n",
       "      <th>Value</th>\n",
       "    </tr>\n",
       "  </thead>\n",
       "  <tbody>\n",
       "    <tr>\n",
       "      <th>0</th>\n",
       "      <td>1012018</td>\n",
       "      <td>2667437</td>\n",
       "      <td>QLD_CW_ST0203</td>\n",
       "      <td>2926.000</td>\n",
       "    </tr>\n",
       "    <tr>\n",
       "      <th>1</th>\n",
       "      <td>2012018</td>\n",
       "      <td>2667437</td>\n",
       "      <td>QLD_CW_ST0203</td>\n",
       "      <td>2687.531</td>\n",
       "    </tr>\n",
       "    <tr>\n",
       "      <th>2</th>\n",
       "      <td>3012018</td>\n",
       "      <td>2667437</td>\n",
       "      <td>QLD_CW_ST0203</td>\n",
       "      <td>2793.000</td>\n",
       "    </tr>\n",
       "    <tr>\n",
       "      <th>3</th>\n",
       "      <td>4012018</td>\n",
       "      <td>2667437</td>\n",
       "      <td>QLD_CW_ST0203</td>\n",
       "      <td>2394.000</td>\n",
       "    </tr>\n",
       "    <tr>\n",
       "      <th>4</th>\n",
       "      <td>5012018</td>\n",
       "      <td>2667437</td>\n",
       "      <td>QLD_CW_ST0203</td>\n",
       "      <td>2660.000</td>\n",
       "    </tr>\n",
       "  </tbody>\n",
       "</table>\n",
       "</div>"
      ],
      "text/plain": [
       "   Time Date  Product          Store     Value\n",
       "0    1012018  2667437  QLD_CW_ST0203  2926.000\n",
       "1    2012018  2667437  QLD_CW_ST0203  2687.531\n",
       "2    3012018  2667437  QLD_CW_ST0203  2793.000\n",
       "3    4012018  2667437  QLD_CW_ST0203  2394.000\n",
       "4    5012018  2667437  QLD_CW_ST0203  2660.000"
      ]
     },
     "execution_count": 5,
     "metadata": {},
     "output_type": "execute_result"
    }
   ],
   "source": [
    "df.head()"
   ]
  },
  {
   "cell_type": "code",
   "execution_count": 6,
   "id": "97938927-52fc-4790-8032-9c090e113546",
   "metadata": {},
   "outputs": [
    {
     "data": {
      "text/html": [
       "<div>\n",
       "<style scoped>\n",
       "    .dataframe tbody tr th:only-of-type {\n",
       "        vertical-align: middle;\n",
       "    }\n",
       "\n",
       "    .dataframe tbody tr th {\n",
       "        vertical-align: top;\n",
       "    }\n",
       "\n",
       "    .dataframe thead th {\n",
       "        text-align: right;\n",
       "    }\n",
       "</style>\n",
       "<table border=\"1\" class=\"dataframe\">\n",
       "  <thead>\n",
       "    <tr style=\"text-align: right;\">\n",
       "      <th></th>\n",
       "      <th>Time Date</th>\n",
       "      <th>Product</th>\n",
       "      <th>Value</th>\n",
       "    </tr>\n",
       "  </thead>\n",
       "  <tbody>\n",
       "    <tr>\n",
       "      <th>count</th>\n",
       "      <td>1.080000e+03</td>\n",
       "      <td>1080.0</td>\n",
       "      <td>1080.000000</td>\n",
       "    </tr>\n",
       "    <tr>\n",
       "      <th>mean</th>\n",
       "      <td>1.567207e+07</td>\n",
       "      <td>2667437.0</td>\n",
       "      <td>4048.117478</td>\n",
       "    </tr>\n",
       "    <tr>\n",
       "      <th>std</th>\n",
       "      <td>8.791548e+06</td>\n",
       "      <td>0.0</td>\n",
       "      <td>1439.945783</td>\n",
       "    </tr>\n",
       "    <tr>\n",
       "      <th>min</th>\n",
       "      <td>1.012018e+06</td>\n",
       "      <td>2667437.0</td>\n",
       "      <td>2042.813500</td>\n",
       "    </tr>\n",
       "    <tr>\n",
       "      <th>25%</th>\n",
       "      <td>8.069518e+06</td>\n",
       "      <td>2667437.0</td>\n",
       "      <td>2632.498599</td>\n",
       "    </tr>\n",
       "    <tr>\n",
       "      <th>50%</th>\n",
       "      <td>1.556702e+07</td>\n",
       "      <td>2667437.0</td>\n",
       "      <td>4256.000000</td>\n",
       "    </tr>\n",
       "    <tr>\n",
       "      <th>75%</th>\n",
       "      <td>2.308452e+07</td>\n",
       "      <td>2667437.0</td>\n",
       "      <td>5288.248910</td>\n",
       "    </tr>\n",
       "    <tr>\n",
       "      <th>max</th>\n",
       "      <td>3.112202e+07</td>\n",
       "      <td>2667437.0</td>\n",
       "      <td>8147.739600</td>\n",
       "    </tr>\n",
       "  </tbody>\n",
       "</table>\n",
       "</div>"
      ],
      "text/plain": [
       "          Time Date    Product        Value\n",
       "count  1.080000e+03     1080.0  1080.000000\n",
       "mean   1.567207e+07  2667437.0  4048.117478\n",
       "std    8.791548e+06        0.0  1439.945783\n",
       "min    1.012018e+06  2667437.0  2042.813500\n",
       "25%    8.069518e+06  2667437.0  2632.498599\n",
       "50%    1.556702e+07  2667437.0  4256.000000\n",
       "75%    2.308452e+07  2667437.0  5288.248910\n",
       "max    3.112202e+07  2667437.0  8147.739600"
      ]
     },
     "execution_count": 6,
     "metadata": {},
     "output_type": "execute_result"
    }
   ],
   "source": [
    "df.describe()"
   ]
  },
  {
   "cell_type": "code",
   "execution_count": 7,
   "id": "29bcad61-e14a-4184-b31e-d50d128d65f1",
   "metadata": {},
   "outputs": [
    {
     "name": "stdout",
     "output_type": "stream",
     "text": [
      "['QLD_CW_ST0203']\n",
      "[2667437]\n"
     ]
    }
   ],
   "source": [
    "# check how many products and stores there are in the table\n",
    "print(df['Store'].unique())\n",
    "print(df['Product'].unique())"
   ]
  },
  {
   "cell_type": "code",
   "execution_count": 8,
   "id": "06085424-493a-4463-ba30-67406b1b65a6",
   "metadata": {},
   "outputs": [
    {
     "data": {
      "text/plain": [
       "Time Date      int64\n",
       "Product        int64\n",
       "Store         object\n",
       "Value        float64\n",
       "dtype: object"
      ]
     },
     "execution_count": 8,
     "metadata": {},
     "output_type": "execute_result"
    }
   ],
   "source": [
    "df.dtypes"
   ]
  },
  {
   "cell_type": "markdown",
   "id": "4fcbf0b2-172f-4adc-bd0f-d5d9f8b18d49",
   "metadata": {},
   "source": [
    "- - We need Time Date to be a (DateTime value) not Int64 type "
   ]
  },
  {
   "cell_type": "code",
   "execution_count": 9,
   "id": "1853bb18-b878-4075-8653-5dd9c9be1802",
   "metadata": {},
   "outputs": [],
   "source": [
    "# Extracting Date\n",
    "df['Year'] = df['Time Date'].apply(lambda x : str(x)[-4:])\n",
    "df['Month'] = df['Time Date'].apply(lambda x : str(x)[-6:-4])\n",
    "df['Day'] = df['Time Date'].apply(lambda x : str(x)[:-6])\n",
    "\n",
    "# Formating Date\n",
    "df['ds'] = pd.DatetimeIndex(df['Year']+'-'+df['Month']+'-'+df['Day']) #  To box subclasses of datetime to Timestamp objects "
   ]
  },
  {
   "cell_type": "code",
   "execution_count": 10,
   "id": "f0690a62-1345-4bda-a6e1-662ac84cc480",
   "metadata": {},
   "outputs": [
    {
     "data": {
      "text/html": [
       "<div>\n",
       "<style scoped>\n",
       "    .dataframe tbody tr th:only-of-type {\n",
       "        vertical-align: middle;\n",
       "    }\n",
       "\n",
       "    .dataframe tbody tr th {\n",
       "        vertical-align: top;\n",
       "    }\n",
       "\n",
       "    .dataframe thead th {\n",
       "        text-align: right;\n",
       "    }\n",
       "</style>\n",
       "<table border=\"1\" class=\"dataframe\">\n",
       "  <thead>\n",
       "    <tr style=\"text-align: right;\">\n",
       "      <th></th>\n",
       "      <th>Time Date</th>\n",
       "      <th>Product</th>\n",
       "      <th>Store</th>\n",
       "      <th>Value</th>\n",
       "      <th>Year</th>\n",
       "      <th>Month</th>\n",
       "      <th>Day</th>\n",
       "      <th>ds</th>\n",
       "    </tr>\n",
       "  </thead>\n",
       "  <tbody>\n",
       "    <tr>\n",
       "      <th>0</th>\n",
       "      <td>1012018</td>\n",
       "      <td>2667437</td>\n",
       "      <td>QLD_CW_ST0203</td>\n",
       "      <td>2926.000</td>\n",
       "      <td>2018</td>\n",
       "      <td>01</td>\n",
       "      <td>1</td>\n",
       "      <td>2018-01-01</td>\n",
       "    </tr>\n",
       "    <tr>\n",
       "      <th>1</th>\n",
       "      <td>2012018</td>\n",
       "      <td>2667437</td>\n",
       "      <td>QLD_CW_ST0203</td>\n",
       "      <td>2687.531</td>\n",
       "      <td>2018</td>\n",
       "      <td>01</td>\n",
       "      <td>2</td>\n",
       "      <td>2018-01-02</td>\n",
       "    </tr>\n",
       "    <tr>\n",
       "      <th>2</th>\n",
       "      <td>3012018</td>\n",
       "      <td>2667437</td>\n",
       "      <td>QLD_CW_ST0203</td>\n",
       "      <td>2793.000</td>\n",
       "      <td>2018</td>\n",
       "      <td>01</td>\n",
       "      <td>3</td>\n",
       "      <td>2018-01-03</td>\n",
       "    </tr>\n",
       "    <tr>\n",
       "      <th>3</th>\n",
       "      <td>4012018</td>\n",
       "      <td>2667437</td>\n",
       "      <td>QLD_CW_ST0203</td>\n",
       "      <td>2394.000</td>\n",
       "      <td>2018</td>\n",
       "      <td>01</td>\n",
       "      <td>4</td>\n",
       "      <td>2018-01-04</td>\n",
       "    </tr>\n",
       "    <tr>\n",
       "      <th>4</th>\n",
       "      <td>5012018</td>\n",
       "      <td>2667437</td>\n",
       "      <td>QLD_CW_ST0203</td>\n",
       "      <td>2660.000</td>\n",
       "      <td>2018</td>\n",
       "      <td>01</td>\n",
       "      <td>5</td>\n",
       "      <td>2018-01-05</td>\n",
       "    </tr>\n",
       "  </tbody>\n",
       "</table>\n",
       "</div>"
      ],
      "text/plain": [
       "   Time Date  Product          Store     Value  Year Month Day         ds\n",
       "0    1012018  2667437  QLD_CW_ST0203  2926.000  2018    01   1 2018-01-01\n",
       "1    2012018  2667437  QLD_CW_ST0203  2687.531  2018    01   2 2018-01-02\n",
       "2    3012018  2667437  QLD_CW_ST0203  2793.000  2018    01   3 2018-01-03\n",
       "3    4012018  2667437  QLD_CW_ST0203  2394.000  2018    01   4 2018-01-04\n",
       "4    5012018  2667437  QLD_CW_ST0203  2660.000  2018    01   5 2018-01-05"
      ]
     },
     "execution_count": 10,
     "metadata": {},
     "output_type": "execute_result"
    }
   ],
   "source": [
    "df.head()"
   ]
  },
  {
   "cell_type": "code",
   "execution_count": 11,
   "id": "e72b26b8-0476-4001-aebc-6227733227e5",
   "metadata": {},
   "outputs": [
    {
     "data": {
      "text/plain": [
       "Time Date             int64\n",
       "Product               int64\n",
       "Store                object\n",
       "Value               float64\n",
       "Year                 object\n",
       "Month                object\n",
       "Day                  object\n",
       "ds           datetime64[ns]\n",
       "dtype: object"
      ]
     },
     "execution_count": 11,
     "metadata": {},
     "output_type": "execute_result"
    }
   ],
   "source": [
    "df.dtypes"
   ]
  },
  {
   "cell_type": "markdown",
   "id": "78ec9b1e-c953-43ba-ad9a-d79af52b754b",
   "metadata": {},
   "source": [
    "- - We cand drop Time Date col because we do not need it anymore, \n",
    "- drop (Product / Store) because they are unique values\n",
    "- drop Year, Month Day because we a a new Datetime object"
   ]
  },
  {
   "cell_type": "code",
   "execution_count": 12,
   "id": "74372560-b5b6-4f29-ab8b-d392728b2d88",
   "metadata": {},
   "outputs": [],
   "source": [
    "# drop unnecessary\n",
    "df.drop(['Year','Month','Day','Store','Product','Time Date'], axis=1, inplace=True)\n",
    "# rename existing ones\n",
    "df.columns = ['y','ds'] # values, datetime"
   ]
  },
  {
   "cell_type": "code",
   "execution_count": 13,
   "id": "606dce31-155a-49ca-a6a2-9d8ead95c7dd",
   "metadata": {},
   "outputs": [
    {
     "data": {
      "text/html": [
       "<div>\n",
       "<style scoped>\n",
       "    .dataframe tbody tr th:only-of-type {\n",
       "        vertical-align: middle;\n",
       "    }\n",
       "\n",
       "    .dataframe tbody tr th {\n",
       "        vertical-align: top;\n",
       "    }\n",
       "\n",
       "    .dataframe thead th {\n",
       "        text-align: right;\n",
       "    }\n",
       "</style>\n",
       "<table border=\"1\" class=\"dataframe\">\n",
       "  <thead>\n",
       "    <tr style=\"text-align: right;\">\n",
       "      <th></th>\n",
       "      <th>y</th>\n",
       "      <th>ds</th>\n",
       "    </tr>\n",
       "  </thead>\n",
       "  <tbody>\n",
       "    <tr>\n",
       "      <th>0</th>\n",
       "      <td>2926.000</td>\n",
       "      <td>2018-01-01</td>\n",
       "    </tr>\n",
       "    <tr>\n",
       "      <th>1</th>\n",
       "      <td>2687.531</td>\n",
       "      <td>2018-01-02</td>\n",
       "    </tr>\n",
       "    <tr>\n",
       "      <th>2</th>\n",
       "      <td>2793.000</td>\n",
       "      <td>2018-01-03</td>\n",
       "    </tr>\n",
       "    <tr>\n",
       "      <th>3</th>\n",
       "      <td>2394.000</td>\n",
       "      <td>2018-01-04</td>\n",
       "    </tr>\n",
       "    <tr>\n",
       "      <th>4</th>\n",
       "      <td>2660.000</td>\n",
       "      <td>2018-01-05</td>\n",
       "    </tr>\n",
       "  </tbody>\n",
       "</table>\n",
       "</div>"
      ],
      "text/plain": [
       "          y         ds\n",
       "0  2926.000 2018-01-01\n",
       "1  2687.531 2018-01-02\n",
       "2  2793.000 2018-01-03\n",
       "3  2394.000 2018-01-04\n",
       "4  2660.000 2018-01-05"
      ]
     },
     "execution_count": 13,
     "metadata": {},
     "output_type": "execute_result"
    }
   ],
   "source": [
    "df.head()"
   ]
  },
  {
   "cell_type": "markdown",
   "id": "f4774d54-4ee1-4f77-9e77-1f772b35af7b",
   "metadata": {},
   "source": [
    "## 2. Train Model"
   ]
  },
  {
   "cell_type": "code",
   "execution_count": 14,
   "id": "958ac163-f721-4da1-abfc-ba138137880a",
   "metadata": {},
   "outputs": [
    {
     "name": "stderr",
     "output_type": "stream",
     "text": [
      "10:58:01 - cmdstanpy - INFO - Chain [1] start processing\n",
      "10:58:01 - cmdstanpy - INFO - Chain [1] done processing\n"
     ]
    }
   ],
   "source": [
    "# instantiate model\n",
    "m = Prophet(interval_width=0.95, daily_seasonality=True) #confidence interval, days\n",
    "# fit it\n",
    "model = m.fit(df)"
   ]
  },
  {
   "cell_type": "markdown",
   "id": "2943e7e9-e23b-4793-9b7c-6c2c377a639a",
   "metadata": {},
   "source": [
    "## 3. Forecast Away"
   ]
  }
 ],
 "metadata": {
  "kernelspec": {
   "display_name": "Python 3 (ipykernel)",
   "language": "python",
   "name": "python3"
  },
  "language_info": {
   "codemirror_mode": {
    "name": "ipython",
    "version": 3
   },
   "file_extension": ".py",
   "mimetype": "text/x-python",
   "name": "python",
   "nbconvert_exporter": "python",
   "pygments_lexer": "ipython3",
   "version": "3.10.7"
  }
 },
 "nbformat": 4,
 "nbformat_minor": 5
}
