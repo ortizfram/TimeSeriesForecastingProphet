{
 "cells": [
  {
   "cell_type": "code",
   "execution_count": 1,
   "id": "412a427d-6999-44b0-b70d-2d525c8052b9",
   "metadata": {},
   "outputs": [],
   "source": [
    "import warnings\n",
    "warnings.simplefilter('ignore')"
   ]
  },
  {
   "cell_type": "markdown",
   "id": "ea4b39b8-514e-42ac-b166-a06fe93b30f9",
   "metadata": {},
   "source": [
    "## 0. Install and import dependencies"
   ]
  },
  {
   "cell_type": "code",
   "execution_count": 9,
   "id": "6ab46345-aa4b-47b1-b1f6-72554926e84e",
   "metadata": {
    "tags": []
   },
   "outputs": [],
   "source": [
    "# if already installed do not run ! :\n",
    "#!pip install pystan prophet plotly Cython"
   ]
  },
  {
   "cell_type": "code",
   "execution_count": 14,
   "id": "05b611c0-c72f-489b-b5fd-2ca0c440569e",
   "metadata": {},
   "outputs": [],
   "source": [
    "import pandas as pd\n",
    "from prophet import Prophet \n",
    "%matplotlib inline"
   ]
  },
  {
   "cell_type": "markdown",
   "id": "91ea6eb0-4889-418e-92d1-d5c9b3c35a67",
   "metadata": {},
   "source": [
    "## 1. Read in Data and process dates"
   ]
  },
  {
   "cell_type": "code",
   "execution_count": 15,
   "id": "bbf92665-9393-496a-a737-01eb840fbe90",
   "metadata": {},
   "outputs": [],
   "source": [
    "df = pd.read_csv('dataset.csv')"
   ]
  },
  {
   "cell_type": "markdown",
   "id": "f4774d54-4ee1-4f77-9e77-1f772b35af7b",
   "metadata": {},
   "source": [
    "## 2. Train Model"
   ]
  },
  {
   "cell_type": "markdown",
   "id": "2943e7e9-e23b-4793-9b7c-6c2c377a639a",
   "metadata": {},
   "source": [
    "## 3. Forecast Away"
   ]
  }
 ],
 "metadata": {
  "kernelspec": {
   "display_name": "Python 3 (ipykernel)",
   "language": "python",
   "name": "python3"
  },
  "language_info": {
   "codemirror_mode": {
    "name": "ipython",
    "version": 3
   },
   "file_extension": ".py",
   "mimetype": "text/x-python",
   "name": "python",
   "nbconvert_exporter": "python",
   "pygments_lexer": "ipython3",
   "version": "3.10.7"
  }
 },
 "nbformat": 4,
 "nbformat_minor": 5
}
